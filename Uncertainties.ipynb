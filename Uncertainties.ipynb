{
  "cells": [
    {
      "cell_type": "code",
      "execution_count": 1,
      "metadata": {
        "id": "kiJO7k32rt2p"
      },
      "outputs": [],
      "source": [
        "import numpy as np\n",
        "import matplotlib.pyplot as plt"
      ]
    },
    {
      "cell_type": "code",
      "execution_count": 2,
      "metadata": {
        "id": "69taQWwSrt2q"
      },
      "outputs": [],
      "source": [
        "! pip install -q uncertainties"
      ]
    },
    {
      "cell_type": "code",
      "execution_count": 3,
      "metadata": {
        "id": "P0cZuB-Drt2q"
      },
      "outputs": [],
      "source": [
        "import uncertainties as uc\n",
        "import uncertainties.umath as um # for maths functions"
      ]
    },
    {
      "cell_type": "markdown",
      "metadata": {
        "id": "ccTk583lrt2s"
      },
      "source": [
        "# Exercises\n",
        "This must be marked before you leave the lab. Mark weighting is in brackets.\n",
        "**Save your work to GitHub after having run all cells with `Runtime` -> `Restart and run all`. And do not change the notebook's filename.** Do add comments to your code, you'll lose points if your code is hard to understand. Graphs without labels (or units when appropriate) are not worth any point.\n",
        "\n",
        "## Exercise 0\n",
        "[0] With some approximations, we have measured the mass of the following black-holes:\n",
        "```\n",
        "\"35.6+/-3.9\",\"30.6+/-3.7\",\"63.1+/-3.2\",\"23.2+/-9.8\",\"13.6+/-4.5\",\"35.7+/-6.8\",\"13.7+/-6.0\",\"7.7+/-2.4\",\"20.5+/-4.0\"\n",
        "```\n",
        "Compute for each (with error-bars) their lifetime due to Hawking radiation:\n",
        "$$\n",
        "t = \\left(\\frac{M}{M_{\\odot}}\\right)^3\\,\\times\\,2.097\\,\\times\\,10^{67} yr\n",
        "$$\n",
        "\n",
        "(this exercise is for demonstration purposes and won't be marked)"
      ]
    },
    {
      "cell_type": "code",
      "execution_count": 15,
      "metadata": {
        "id": "ockKZqzTrt2s"
      },
      "outputs": [],
      "source": [
        "# setting up an array containing each mass, and its error as ufloats, I'm assuming the masses are in terms of solar masses, given the range of numbers.\n",
        "masses = np.array([uc.ufloat(35.6,3.9),uc.ufloat(30.6,3.7),uc.ufloat(63.1,3.2),uc.ufloat(23.2,9.8),uc.ufloat(13.6,4.5),uc.ufloat(35.7,6.8),uc.ufloat(13.7,6.0),uc.ufloat(7.7,2.4),uc.ufloat(20.5,4.0)])\n",
        "\n",
        "# calculating the lifetime due to hawkin radiation using the equation above\n",
        "t=(masses)**3*2.097e67"
      ]
    },
    {
      "cell_type": "markdown",
      "metadata": {
        "id": "oIRH3N7Frt2s"
      },
      "source": [
        "## Exercise 1\n",
        "[2] An object is measured to travel a distance $x = 5.1 \\pm 0.4 m$ during a time of $t = 0.4 \\pm 0.1 s$. What is the average velocity and the error in the average velocity?"
      ]
    },
    {
      "cell_type": "code",
      "execution_count": 14,
      "metadata": {
        "id": "-6BKf3O1rt2s",
        "outputId": "297a3bb5-3bd0-49a7-8bf6-e4aff9611588",
        "colab": {
          "base_uri": "https://localhost:8080/"
        }
      },
      "outputs": [
        {
          "output_type": "stream",
          "name": "stdout",
          "text": [
            "v = 12.7+/-3.3 m/s\n"
          ]
        }
      ],
      "source": [
        "x=uc.ufloat(5.1,0.4)\n",
        "t=uc.ufloat(0.4,0.1)\n",
        "v=x/t\n",
        "print(f\"v = {v} m/s\")"
      ]
    },
    {
      "cell_type": "markdown",
      "metadata": {
        "id": "edha6APErt2s"
      },
      "source": [
        "## Exercise 2\n",
        "[2] An enterprising cow attempts to jump over the moon by jumping vertically into the air with initial speed $v_0=4.0\\pm0.2 m/s$. After a time $t=0.60\\pm0.06s$, the height of the cow is $h = v_0t-\\frac{1}{2}g t^2 = 0.636 m$. What is the uncertainty in $h$? Take $g$ as exactly $9.81 ms^{-2}$."
      ]
    },
    {
      "cell_type": "code",
      "execution_count": 19,
      "metadata": {
        "id": "ccDg5VG8rt2t",
        "outputId": "9f624a7a-5385-453d-a122-a22754dd4b0c",
        "colab": {
          "base_uri": "https://localhost:8080/"
        }
      },
      "outputs": [
        {
          "output_type": "stream",
          "name": "stdout",
          "text": [
            "the uncertainty in h is: +/-0.16m\n"
          ]
        }
      ],
      "source": [
        "v0=uc.ufloat(4.0,0.2)\n",
        "t=uc.ufloat(0.60,0.06)\n",
        "g=9.81\n",
        "# calculating the value and its uncertainty\n",
        "h=v0*t-0.5*g*t**2\n",
        "print(f\"the uncertainty in h is: +/-{h.std_dev:.2f}m\")"
      ]
    },
    {
      "cell_type": "markdown",
      "metadata": {
        "id": "24dOHW5rrt2t"
      },
      "source": [
        "## Exercise 3\n",
        "[2] In an optics experiment the object distance $u$ is measured to be 20cm and the image distance $v$ is 10cm, both to an accuracy of 0.5cm. Find the focal length $f$ of the lens using the formula:\n",
        "\n",
        "$$ \\frac{1}{u}+\\frac{1}{v}=\\frac{1}{f}$$"
      ]
    },
    {
      "cell_type": "code",
      "execution_count": 17,
      "metadata": {
        "id": "ZhDhfg4_rt2t",
        "outputId": "f638d5f3-9712-483a-8110-53b4ce908297",
        "colab": {
          "base_uri": "https://localhost:8080/"
        }
      },
      "outputs": [
        {
          "output_type": "stream",
          "name": "stdout",
          "text": [
            "the focal length is: 6.67+/-0.23cm\n"
          ]
        }
      ],
      "source": [
        "u=uc.ufloat(20,0.5)\n",
        "v=uc.ufloat(10,0.5)\n",
        "\n",
        "f=1/(1/u+1/v)\n",
        "print(f\"the focal length is: {f}cm\")"
      ]
    },
    {
      "cell_type": "markdown",
      "metadata": {
        "id": "12cytPm1rt2t"
      },
      "source": [
        "## Exercise 4\n",
        "[2] Two students each measure the refractive index of water. Jack measures a value of $1.33 \\pm 0.03$ while Jill measures $1.28 \\pm 0.02$. Are these values in agreement? *You do have to think a bit about this one...*"
      ]
    },
    {
      "cell_type": "code",
      "source": [
        "# defining the refractive indices\n",
        "jack_n=uc.ufloat(1.33,0.03)\n",
        "jill_n=uc.ufloat(1.28,0.02)\n",
        "\n",
        "# calculating the difference\n",
        "diff=jack_n-jill_n\n",
        "\n",
        "# checking whether the difference is less than the combined uncertainty\n",
        "if abs(diff.nominal_value) <= diff.std_dev:\n",
        "  print(\"The values are in agreement.\")\n",
        "else:\n",
        "  print(\"The values are not in agreement.\")\n",
        "\n",
        "print(f\"The difference is: {diff}\")"
      ],
      "metadata": {
        "colab": {
          "base_uri": "https://localhost:8080/"
        },
        "id": "i0LVIGcblbWU",
        "outputId": "47418c25-51a4-4aca-869c-244e747642d1"
      },
      "execution_count": 8,
      "outputs": [
        {
          "output_type": "stream",
          "name": "stdout",
          "text": [
            "The values are not in agreement.\n",
            "The difference is: 0.05+/-0.04\n"
          ]
        }
      ]
    },
    {
      "cell_type": "markdown",
      "metadata": {
        "id": "FgW7NuALrt2t"
      },
      "source": [
        "## Exercise 5\n",
        "[2] The damped resonance frequency $\\omega_{res}$ of an oscillating system is related to the (un-damped) natural angular frequency $\\omega_0$ and the damping coefficient $\\alpha$ by:\n",
        "\n",
        "$$\\omega_{res} = \\sqrt{ \\omega_0^2 - 2\\alpha^2}$$\n",
        "\n",
        "Find $f_0$ if the measured resonance frequency $f_{res}$ is $23.2\\pm0.1 Hz$ and the measured damping coefficient is $19.5\\pm0.5s^{-1}$.\n"
      ]
    },
    {
      "cell_type": "code",
      "execution_count": 9,
      "metadata": {
        "id": "h1umdOohrt2t",
        "outputId": "e08b7bd7-a46a-45cd-db23-04d68d6c0630",
        "colab": {
          "base_uri": "https://localhost:8080/"
        }
      },
      "outputs": [
        {
          "output_type": "stream",
          "name": "stdout",
          "text": [
            "f0 = 23.61+/-0.10\n"
          ]
        }
      ],
      "source": [
        "# defining values\n",
        "f_res=uc.ufloat(23.2,0.1)\n",
        "alpha=uc.ufloat(19.5,0.5)\n",
        "\n",
        "# w = 2 pi f\n",
        "w_res=2*np.pi*f_res\n",
        "\n",
        "# rearrange the equation to get w_0\n",
        "w_0=um.sqrt(w_res**2+2*alpha**2)\n",
        "# then getting f_0\n",
        "f_0=w_0/(2*np.pi)\n",
        "print(f\"f0 = {f_0}\")"
      ]
    },
    {
      "cell_type": "markdown",
      "metadata": {
        "id": "XxViH3Yzrt2t"
      },
      "source": [
        "## Exercise 6\n",
        "[2] Suppose you have the following equation from one of your lab experiments:\n",
        "\n",
        "$$f=\\frac{c}{2}\\sqrt{\\frac{n_x^2}{L_x^2}+\\frac{n_y^2}{L_y^2}+\\frac{n_z^2}{L_z^2}}$$\n",
        "\n",
        "where $f$ is the resonant frequency of sound waves in a box of sides $L_x$, $L_y$ and $L_z$ in length and the $n_x$ etc. are integers. $L_x = 10.2\\pm0.2m$, $L_y = 5.2\\pm0.3m$ and $L_z = 20.0\\pm0.1 m$, while $c = 331.3 + T * 0.606 \\,m\\,s^{-1}$ is the temperature-dependent speed of sound, and the temperature $T$ is $23 \\pm 1^\\circ C$.\n",
        "Calculate $f$ and the error in $f$ for the following values of $(nx,ny,nz)= (1,1,1), (1,1,2)$ and $(2,1,1)$.\n"
      ]
    },
    {
      "cell_type": "code",
      "execution_count": 18,
      "metadata": {
        "id": "mCocxapjrt2t",
        "outputId": "6dafeab6-38a9-468b-cdd9-c716aed76f4d",
        "colab": {
          "base_uri": "https://localhost:8080/"
        }
      },
      "outputs": [
        {
          "output_type": "stream",
          "name": "stdout",
          "text": [
            "f1 = 56.6+/-2.5 Hz\n",
            "f2 = 60.7+/-2.3 Hz\n",
            "f3 = 71.3+/-2.1 Hz\n"
          ]
        }
      ],
      "source": [
        "# defining values\n",
        "L_x=uc.ufloat(10.2,0.2)\n",
        "L_y=uc.ufloat(5.2,0.3)\n",
        "L_z=uc.ufloat(20.0,0.1)\n",
        "# converting temp to kelvin\n",
        "T=uc.ufloat(296,1)\n",
        "c=331.3+T*0.606\n",
        "\n",
        "# defining the values of the n's\n",
        "n_x,n_y,n_z=[1,1,2],[1,1,1],[1,2,1]\n",
        "\n",
        "# calculate each of the values of f for each of the different values of nx,ny and nz.\n",
        "# using a for loop to loop through the list of n's.\n",
        "for i in range(0,3):\n",
        "  f=c/2*(um.sqrt((n_x[i]**2/L_x**2)+(n_y[i]**2/L_y**2)+(n_z[i]**2/L_z**2)))\n",
        "  print(f\"f{i+1} = {f} Hz\")"
      ]
    },
    {
      "cell_type": "markdown",
      "metadata": {
        "id": "vUUAcTdVrt2t"
      },
      "source": [
        "## Exercise 7\n",
        "[4] The reflection coefficient $R_\\parallel$ for parallel plane-polarised light reflected from a surface is given by the equation:\n",
        "\n",
        "$$ R_\\parallel = \\frac{\\tan^2(\\theta_i - \\theta_t)}{\\tan^2(\\theta_i + \\theta_t)} $$\n",
        "\n",
        "Calculate the error in $R_\\parallel$ given measurements $\\theta_i = (78 \\pm 1)^\\circ$ and $\\theta_t = (40 \\pm 1)^\\circ$."
      ]
    },
    {
      "cell_type": "code",
      "execution_count": 44,
      "metadata": {
        "id": "aaiRIymqrt2t",
        "outputId": "ee870170-0b98-46d1-ad24-404c56bb5a36",
        "colab": {
          "base_uri": "https://localhost:8080/"
        }
      },
      "outputs": [
        {
          "output_type": "stream",
          "name": "stdout",
          "text": [
            "the error in R is: +/-0.027\n"
          ]
        }
      ],
      "source": [
        "# defining the values, and converting them to radians\n",
        "θ_i=um.radians(uc.ufloat(78,1))\n",
        "θ_t=um.radians(uc.ufloat(40,1))\n",
        "\n",
        "# calculating R as per equation\n",
        "R=um.tan(θ_i-θ_t)**2/um.tan(θ_i+θ_t)**2\n",
        "\n",
        "print(f\"the error in R is: +/-{R.std_dev:.3f}\") # prints just the error in R."
      ]
    },
    {
      "cell_type": "markdown",
      "metadata": {
        "id": "q9tVoRMBrt2t"
      },
      "source": [
        "## Exercise 8\n",
        "[4] Calculate and print to the screen the fractional uncertainty, as a percentage to one\n",
        "significant figure, of the fluid flow discharge coefficient $C_d$ from the equation\n",
        "\n",
        "$$\n",
        "C_d = \\frac{\\dot{m}\\sqrt{1-\\left(\\frac{d}{D}\\right)^4}}{Kd^2F\\sqrt{\\rho\\Delta P}}\n",
        "$$\n",
        "\n",
        "where\n",
        "\n",
        "\\begin{align*}\n",
        "    C_d &= \\text{discharge coefficient}&& \\text{(no units)} \\\\\n",
        "    \\dot{m} &= \\text{mass flow rate}&& = 0.13 \\pm 0.01kg\\,s^{-1} \\\\\n",
        "    d &= \\text{orifice diameter}&& = 11\\pm 1 mm \\\\\n",
        "    D &= \\text{pipe diameter}&& = 71 \\pm 1 mm \\\\\n",
        "    \\rho &= \\text{fluid density}&& =1.01\\pm0.01g\\,cm^{-3} \\\\\n",
        "    \\Delta P &= \\text{differential pressure}&& =156 \\pm 7 Pa \\\\\n",
        "    K &= \\text{a constant parameter}&& =\\text{constant (no units)} \\\\\n",
        "    F &= \\text{thermal expansion factor}&& =\\text{constant (no units)}\n",
        "\\end{align*}\n"
      ]
    },
    {
      "cell_type": "code",
      "execution_count": 21,
      "metadata": {
        "id": "ZFjnpSjWrt2t",
        "outputId": "6567d4bb-7101-45c2-f096-62ad1d0f8ea8",
        "colab": {
          "base_uri": "https://localhost:8080/"
        }
      },
      "outputs": [
        {
          "output_type": "stream",
          "name": "stdout",
          "text": [
            "the fractional uncertainty of the fluid flow discharge coeefficient is: +/-9%\n"
          ]
        }
      ],
      "source": [
        "# defining values as given in the exercise\n",
        "m_dot=uc.ufloat(0.13,0.01)\n",
        "d=uc.ufloat(0.011,0.001)\n",
        "D=uc.ufloat(0.071,0.001)\n",
        "ρ=uc.ufloat(1010,10)\n",
        "ΔP=uc.ufloat(156,7)\n",
        "# ignoring constants as they won't have a bearing on fractional uncertainty\n",
        "\n",
        "# calculating based on equation in exercise, removing the two constant terms\n",
        "C_d=(m_dot*um.sqrt(1-((d/D)**4)))/(D**2*um.sqrt(ρ*ΔP))\n",
        "print(f\"the fractional uncertainty of the fluid flow discharge coeefficient is: +/-{100*C_d.std_dev/C_d.nominal_value:.0f}%\") # calculates uncertainty as a percentage"
      ]
    },
    {
      "cell_type": "markdown",
      "metadata": {
        "id": "KrNTVwF_rt2t"
      },
      "source": [
        "## Exercise 9: Optional problem (not marked)\n",
        "If you have time and want to try something interesting, do the following problem by plotting in 2D:\n",
        " - Draw an equilateral triangle with vertices and coordinates: vertex 1: $(p_1,q_1)$; vertex 2: $(p_2, q_2)$; vertex 3: $(p_3, q_3)$.\n",
        " - Place a dot at an arbitrary point $P = (x_0, y_0)$ within this triangle.\n",
        " - Find the next point by selecting randomly an integer $n = 1 , 2, $  or $3$ :\n",
        "    1. If 1 , place a dot halfway between P and vertex 1.\n",
        "    2. If 2 , place a dot halfway between P and vertex 2.\n",
        "    3. If 3 , place a dot halfway between P and vertex 3.\n",
        " - Repeat the last two steps using the last dot as the new P.\n",
        "\n",
        "Mathematically, the coordinates of successive points are given by the formulae\n",
        "\n",
        "$$(x_{i+1},y_{i+1})=0.5[(x_i,y_i)+(p_n,q_n)]$$\n",
        "\n",
        "and\n",
        "\n",
        "$$n=int(1+3r_i),$$\n",
        "\n",
        "where $r_i$ is a random number between 0 and 1 and where the $int()$ function outputs the closest integer smaller than or equal to the argument.\n",
        "\n",
        "Try extending this to four vertices."
      ]
    },
    {
      "cell_type": "code",
      "execution_count": 12,
      "metadata": {
        "id": "V0uKBAa3rt2u"
      },
      "outputs": [],
      "source": []
    }
  ],
  "metadata": {
    "kernelspec": {
      "display_name": "Python 3",
      "language": "python",
      "name": "python3"
    },
    "language_info": {
      "codemirror_mode": {
        "name": "ipython",
        "version": 3
      },
      "file_extension": ".py",
      "mimetype": "text/x-python",
      "name": "python",
      "nbconvert_exporter": "python",
      "pygments_lexer": "ipython3",
      "version": "3.7.10"
    },
    "colab": {
      "provenance": []
    }
  },
  "nbformat": 4,
  "nbformat_minor": 0
}